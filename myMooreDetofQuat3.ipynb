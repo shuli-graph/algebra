{
 "cells": [
  {
   "cell_type": "code",
   "execution_count": 1,
   "metadata": {},
   "outputs": [
    {
     "name": "stdout",
     "output_type": "stream",
     "text": [
      "The matrices A, B, A*B & B*A with their Moore dets are respectively \n",
      "--------------------\n",
      "[1 i j]\n",
      "[k i j]\n",
      "[k 1 j] -1 - i - j - k\n",
      "--------------------\n",
      "[1 0 0]\n",
      "[0 1 0]\n",
      "[0 i 1] 1\n",
      "--------------------\n",
      "[    1 i - k     j]\n",
      "[    k i - k     j]\n",
      "[    k 1 - k     j] -1 - 3*i + j - k\n",
      "--------------------\n",
      "[     1      i      j]\n",
      "[     k      i      j]\n",
      "[-j + k      0  j + k] -1 - i + j - k\n",
      "==================================================\n",
      "det_A*det_B & det_B*det_A are respectively \n",
      "-1 - i - j - k , -1 - i - j - k\n"
     ]
    }
   ],
   "source": [
    "# 验证3阶四元数矩阵乘积的Moore行列式是否保持矩阵乘积\n",
    "Q.<i,j,k>=QuaternionAlgebra(QQ,-1,-1) #定义四元数代数\n",
    "M3=MatrixSpace(Q,3) #定义四元数代数上的2乘2矩阵\n",
    "A=M3([1,i,j,k,i,j,k,1,j])\n",
    "\n",
    "#B=M3([1,0,0,-i,1,0,0,0,1])\n",
    "B=elementary_matrix(Q,3, row1=2, row2=1, scale=i)\n",
    "#B=elementary_matrix(Q,3, row1=1, row2=2)\n",
    "\n",
    "C=A*B\n",
    "D=B*A\n",
    "S=([A,B,C,D])\n",
    "md=([0,0,0,0])\n",
    "print(\"The matrices A, B, A*B & B*A with their Moore dets are respectively \")\n",
    "for i in range(0,4):\n",
    "    T=S[i]\n",
    "    print(\"--------------------\")\n",
    "    md[i] = T[2,2]*T[1,1]*T[0,0]+T[2,1]*T[1,0]*T[0,2]+T[2,0]*T[0,1]*T[1,2]-T[2,2]*T[1,0]*T[0,1]-T[2,1]*T[1,2]*T[0,0]-T[2,0]*T[0,2]*T[1,1]  \n",
    "    print(T,md[i])\n",
    "print(\"==================================================\")\n",
    "\n",
    "print(\"det_A*det_B & det_B*det_A are respectively \")\n",
    "print(md[0]*md[1],\",\", md[1]*md[0])"
   ]
  },
  {
   "cell_type": "code",
   "execution_count": null,
   "metadata": {},
   "outputs": [],
   "source": []
  }
 ],
 "metadata": {
  "kernelspec": {
   "display_name": "SageMath 9.3",
   "language": "sage",
   "name": "sagemath"
  },
  "language_info": {
   "codemirror_mode": {
    "name": "ipython",
    "version": 3
   },
   "file_extension": ".py",
   "mimetype": "text/x-python",
   "name": "python",
   "nbconvert_exporter": "python",
   "pygments_lexer": "ipython3",
   "version": "3.7.10"
  }
 },
 "nbformat": 4,
 "nbformat_minor": 4
}
