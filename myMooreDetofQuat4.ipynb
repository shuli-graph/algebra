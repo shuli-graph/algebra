{
 "cells": [
  {
   "cell_type": "code",
   "execution_count": 1,
   "metadata": {
    "scrolled": true
   },
   "outputs": [
    {
     "name": "stdout",
     "output_type": "stream",
     "text": [
      "[ 0  1  k  1]\n",
      "[-i  1  0 -1]\n",
      "[ 0  1  1  1]\n",
      "[ i  j  k  1]\n",
      "1 - i - j + k\n"
     ]
    }
   ],
   "source": [
    "Q.<i,j,k>=QuaternionAlgebra(QQ, -1, -1)\n",
    "M4 = MatrixSpace(Q,4)\n",
    "# A=M4([1,2,-1,2,3,0,1,5,1,-2,0,3,-2,-4,1,6])\n",
    "A=M4([0,1,k,1,-i,1,0,-1,0,1,1,1,i,j,k,1])\n",
    "print(A)\n",
    "Mdet = A[3,3]*(A[2,2]*A[1,1]*A[0,0]+A[2,1]*A[1,0]*A[0,2]+A[2,0]*A[0,1]*A[1,2]-A[2,2]*A[1,0]*A[0,1]-A[2,1]*A[1,2]*A[0,0]-A[2,0]*A[0,2]*A[1,1])\n",
    "G = SymmetricGroup(4)\n",
    "S1 = ([G((1,2,3,4)), G((1,2,4,3)),G((1,4,2,3)),G((1,4,3,2)),G((1,3,2,4)), G((1,3,4,2))])\n",
    "for g in S1:\n",
    "    Mdet-=A[3,g(4)-1]*A[g(4)-1,(g^2)(4)-1]*A[(g^2)(4)-1,(g^3)(4)-1]*A[(g^3)(4)-1,3]\n",
    "S2 = ([G((1,2,4)),G((1,4,2)), G((1,3,4)), G((1,4,3)), G((2,3,4)), G((2,4,3))])\n",
    "for g in S2:\n",
    "    H = PermutationGroup([g])\n",
    "    k = H.fixed_points()[0]-1\n",
    "    Mdet+= A[3, g(4)-1]*A[g(4)-1,(g^2)(4)-1]*A[(g^2)(4)-1,3]*A[k,k]\n",
    "Mdet = Mdet - A[3,0]*A[0,3]*A[2,2]*A[1,1] - A[3,1]*A[1,3]*A[2,2]*A[0,0]-A[3,2]*A[2,3]*A[1,1]*A[0,0]\n",
    "Mdet = Mdet + A[3,0]*A[0,3]*A[2,1]*A[1,2] + A[3,1]*A[1,3]*A[2,0]*A[0,2] + A[3,2]*A[2,3]*A[1,0]*A[0,1]\n",
    "print(Mdet)\n",
    "\n",
    "\n"
   ]
  },
  {
   "cell_type": "code",
   "execution_count": null,
   "metadata": {},
   "outputs": [],
   "source": []
  }
 ],
 "metadata": {
  "kernelspec": {
   "display_name": "SageMath 9.3",
   "language": "sage",
   "name": "sagemath"
  },
  "language_info": {
   "codemirror_mode": {
    "name": "ipython",
    "version": 3
   },
   "file_extension": ".py",
   "mimetype": "text/x-python",
   "name": "python",
   "nbconvert_exporter": "python",
   "pygments_lexer": "ipython3",
   "version": "3.7.10"
  }
 },
 "nbformat": 4,
 "nbformat_minor": 4
}
