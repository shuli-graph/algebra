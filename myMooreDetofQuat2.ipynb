{
 "cells": [
  {
   "cell_type": "code",
   "execution_count": 1,
   "metadata": {},
   "outputs": [
    {
     "name": "stdout",
     "output_type": "stream",
     "text": [
      "The matrices A, B, A*B & B*A with their Moore dets are respectively \n",
      "--------------------\n",
      "[                   42 -7/5 + 1/3*j - 3/10*k]\n",
      "[-7/5 - 1/3*j + 3/10*k                  -2/3] -5429/180\n",
      "--------------------\n",
      "[   2  3*i]\n",
      "[-3*i    1] -7\n",
      "--------------------\n",
      "[     84 + 21/5*i + 9/10*j + k -7/5 + 126*i + 1/3*j - 3/10*k]\n",
      "[  -14/5 + 2*i - 2/3*j + 3/5*k    -2/3 - 21/5*i + 9/10*j + k] 186757/900 + 36/5*j - 667/75*k\n",
      "--------------------\n",
      "[     84 - 21/5*i - 9/10*j - k   -14/5 - 2*i + 2/3*j - 3/5*k]\n",
      "[-7/5 - 126*i - 1/3*j + 3/10*k    -2/3 + 21/5*i - 9/10*j - k] 186757/900 + 48/5*j - 467/75*k\n",
      "==================================================\n",
      "det_A*det_B & det_B*det_A are respectively \n",
      "38003/180 , 38003/180\n"
     ]
    }
   ],
   "source": [
    "# 验证2阶四元数矩阵乘积的Moore行列式是否保持矩阵乘积\n",
    "Q.<i,j,k>=QuaternionAlgebra(QQ,-1,-1) #定义四元数代数\n",
    "M2=MatrixSpace(Q,2) #定义四元数代数上的2乘2矩阵\n",
    "#A=M2([1,i,j,k])\n",
    "#A=M2([1,1+i-2*j,1-i+2*j,2])\n",
    "A=random_matrix(Q,2)\n",
    "A+=A.H\n",
    "#A=M2([1,-j,j,0])\n",
    "\n",
    "#B=M2([0,-k,j,1])\n",
    "#B=M2([0,-j,j,1])\n",
    "#B=M2([1,0,i,1])#初等矩阵\n",
    "#B=A\n",
    "B=M2([2,3*i,-3*i,1])\n",
    "\n",
    "C=A*B\n",
    "D=B*A\n",
    "S=([A,B,C,D])\n",
    "md=([0,0,0,0])\n",
    "print(\"The matrices A, B, A*B & B*A with their Moore dets are respectively \")\n",
    "for i in range(0,4):\n",
    "    print(\"--------------------\")\n",
    "    md[i] = (S[i])[1,1]*(S[i])[0,0]-(S[i])[1,0]*(S[i])[0,1]   \n",
    "    print(S[i],md[i])\n",
    "print(\"==================================================\")\n",
    "\n",
    "print(\"det_A*det_B & det_B*det_A are respectively \")\n",
    "print(md[0]*md[1],\",\", md[1]*md[0])"
   ]
  },
  {
   "cell_type": "code",
   "execution_count": null,
   "metadata": {},
   "outputs": [],
   "source": []
  }
 ],
 "metadata": {
  "kernelspec": {
   "display_name": "SageMath 9.3",
   "language": "sage",
   "name": "sagemath"
  },
  "language_info": {
   "codemirror_mode": {
    "name": "ipython",
    "version": 3
   },
   "file_extension": ".py",
   "mimetype": "text/x-python",
   "name": "python",
   "nbconvert_exporter": "python",
   "pygments_lexer": "ipython3",
   "version": "3.7.10"
  }
 },
 "nbformat": 4,
 "nbformat_minor": 4
}
